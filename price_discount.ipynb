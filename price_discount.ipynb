{
 "cells": [
  {
   "cell_type": "code",
   "execution_count": 1,
   "metadata": {
    "ExecuteTime": {
     "end_time": "2020-02-28T04:24:54.172743Z",
     "start_time": "2020-02-28T04:24:52.910934Z"
    }
   },
   "outputs": [],
   "source": [
    "import time\n",
    "import pandas as pd\n",
    "import re\n",
    "from selenium import webdriver\n",
    "from selenium.common.exceptions import TimeoutException, NoSuchElementException\n",
    "from selenium.webdriver.common.by import By\n",
    "from selenium.webdriver.support import expected_conditions as EC\n",
    "from selenium.webdriver.support.ui import WebDriverWait"
   ]
  },
  {
   "cell_type": "code",
   "execution_count": 2,
   "metadata": {
    "ExecuteTime": {
     "end_time": "2020-02-28T04:24:54.246855Z",
     "start_time": "2020-02-28T04:24:54.235364Z"
    }
   },
   "outputs": [
    {
     "name": "stdout",
     "output_type": "stream",
     "text": [
      "start time: 02/28/20 09:54:54\n"
     ]
    }
   ],
   "source": [
    "start_time = time.time()\n",
    "print(f\"start time: {time.strftime('%x %X')}\")"
   ]
  },
  {
   "cell_type": "code",
   "execution_count": 3,
   "metadata": {
    "ExecuteTime": {
     "end_time": "2020-02-28T04:24:54.307778Z",
     "start_time": "2020-02-28T04:24:54.287835Z"
    }
   },
   "outputs": [],
   "source": [
    "def chrome():\n",
    "    \"\"\"This creates a chrome instance\n",
    "    \"\"\"\n",
    "    option = webdriver.ChromeOptions()\n",
    "    option.add_argument(\"--ignore-certificate-errors\")\n",
    "    option.add_argument(\"--ignore-ssl-errors\")\n",
    "    option.add_argument(\"--safebrowsing-disable-download-protection\")\n",
    "    option.add_experimental_option(\"excludeSwitches\", [\"enable-logging\"])\n",
    "    return webdriver.Chrome(options=option)\n",
    "\n",
    "\n",
    "def midway(bot):\n",
    "    \"\"\"Takes chrome instance as input and returns midway authenticated chrome instance\n",
    "    \"\"\"\n",
    "    print(\n",
    "        \"*\" * 3,\n",
    "        \"Please Authenticate browser with your Midway credentials \",\n",
    "        \"*\" * 3,\n",
    "        \"\\n\",\n",
    "    )\n",
    "    bot.get(\"https://midway.amazon.com\")\n",
    "    input(\"Please press enter once Midway Authentication is Successful: \")\n",
    "    print(end=\"\\n \\n\")\n",
    "    return bot"
   ]
  },
  {
   "cell_type": "code",
   "execution_count": 4,
   "metadata": {
    "ExecuteTime": {
     "end_time": "2020-02-28T04:24:55.050156Z",
     "start_time": "2020-02-28T04:24:54.975348Z"
    }
   },
   "outputs": [],
   "source": [
    "asins = pd.read_excel(r\"asins.xlsx\").iloc[:, 0]"
   ]
  },
  {
   "cell_type": "code",
   "execution_count": 5,
   "metadata": {
    "ExecuteTime": {
     "end_time": "2020-02-28T04:26:28.815283Z",
     "start_time": "2020-02-28T04:24:56.264439Z"
    }
   },
   "outputs": [
    {
     "name": "stdout",
     "output_type": "stream",
     "text": [
      "*** Please Authenticate browser with your Midway credentials  *** \n",
      "\n",
      "Please press enter once Midway Authentication is Successful: \n",
      "\n",
      " \n"
     ]
    }
   ],
   "source": [
    "bot = midway(chrome())"
   ]
  },
  {
   "cell_type": "code",
   "execution_count": 17,
   "metadata": {
    "ExecuteTime": {
     "end_time": "2020-02-28T05:15:11.801469Z",
     "start_time": "2020-02-28T05:15:09.057424Z"
    }
   },
   "outputs": [
    {
     "data": {
      "text/plain": [
       "['Recommended Discount (Tax Included): 1.78 with discount strategy: COUPONS']"
      ]
     },
     "execution_count": 17,
     "metadata": {},
     "output_type": "execute_result"
    }
   ],
   "source": [
    "bot.get(\"https://pricingrules.amazon.com/rest/itemDetails/1/1/null/B002Q9MCG8/latestPricingRulesEvaluationDetails\")\n",
    "page = bot.page_source\n",
    "c.findall(page)"
   ]
  },
  {
   "cell_type": "code",
   "execution_count": null,
   "metadata": {},
   "outputs": [],
   "source": [
    "c = re.compile(\n",
    "    r\"Recommended Discount \\(Tax Included\\): [.0-9]+ with discount strategy: [_A-Z]+\")\n",
    "\n",
    "\n",
    "def pricingDiscount(asin):\n",
    "    try:\n",
    "        bot.get(\n",
    "            \"https://pricingrules.amazon.com/rest/itemDetails/1/1/null/\" + asin + \"/latestPricingRulesEvaluationDetails\")\n",
    "        page = bot.page_source\n",
    "        if len(c.findall(page)) != 0:\n",
    "            return c.findall(page)\n",
    "        else:\n",
    "            return \"Not Found\"\n",
    "    except NoSuchElementException:\n",
    "        return \"Not Found\"\n",
    "    except TimeoutException:\n",
    "        return \"Page Load Error\""
   ]
  },
  {
   "cell_type": "code",
   "execution_count": null,
   "metadata": {},
   "outputs": [],
   "source": [
    "result = []\n",
    "for i in asins:\n",
    "    result.append([i, pricingDiscount(i)])\n",
    "result = pd.DataFrame(result)\n",
    "result.columns = [\"asin\", \"pricingDiscount_comment\"]\n",
    "result.to_csv(\"pricing_remarks.csv\", index=False)"
   ]
  },
  {
   "cell_type": "code",
   "execution_count": null,
   "metadata": {},
   "outputs": [],
   "source": [
    "end_time = time.time()\n",
    "minutes = (end_time - start_time) // 60\n",
    "seconds = (end_time - start_time) % 60\n",
    "print(f\"end time: {time.strftime('%x %X')}\")\n",
    "print(\n",
    "    f\"Approx. time taken : {round(minutes)} minutes {round(seconds)} seconds\")"
   ]
  },
  {
   "cell_type": "code",
   "execution_count": null,
   "metadata": {},
   "outputs": [],
   "source": []
  }
 ],
 "metadata": {
  "hide_input": false,
  "kernelspec": {
   "display_name": "Python 3",
   "language": "python",
   "name": "python3"
  },
  "language_info": {
   "codemirror_mode": {
    "name": "ipython",
    "version": 3
   },
   "file_extension": ".py",
   "mimetype": "text/x-python",
   "name": "python",
   "nbconvert_exporter": "python",
   "pygments_lexer": "ipython3",
   "version": "3.7.3"
  },
  "toc": {
   "base_numbering": 1,
   "nav_menu": {},
   "number_sections": true,
   "sideBar": true,
   "skip_h1_title": false,
   "title_cell": "Table of Contents",
   "title_sidebar": "Contents",
   "toc_cell": false,
   "toc_position": {},
   "toc_section_display": true,
   "toc_window_display": false
  },
  "varInspector": {
   "cols": {
    "lenName": 16,
    "lenType": 16,
    "lenVar": 40
   },
   "kernels_config": {
    "python": {
     "delete_cmd_postfix": "",
     "delete_cmd_prefix": "del ",
     "library": "var_list.py",
     "varRefreshCmd": "print(var_dic_list())"
    },
    "r": {
     "delete_cmd_postfix": ") ",
     "delete_cmd_prefix": "rm(",
     "library": "var_list.r",
     "varRefreshCmd": "cat(var_dic_list()) "
    }
   },
   "types_to_exclude": [
    "module",
    "function",
    "builtin_function_or_method",
    "instance",
    "_Feature"
   ],
   "window_display": false
  }
 },
 "nbformat": 4,
 "nbformat_minor": 4
}
