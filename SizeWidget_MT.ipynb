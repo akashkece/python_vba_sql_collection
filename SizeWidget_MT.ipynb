{
 "cells": [
  {
   "cell_type": "code",
   "execution_count": 1,
   "metadata": {
    "ExecuteTime": {
     "end_time": "2020-09-07T16:06:18.298886Z",
     "start_time": "2020-09-07T16:06:17.420166Z"
    }
   },
   "outputs": [],
   "source": [
    "import time\n",
    "import concurrent.futures\n",
    "import requests\n",
    "import pandas as pd"
   ]
  },
  {
   "cell_type": "code",
   "execution_count": 2,
   "metadata": {
    "ExecuteTime": {
     "end_time": "2020-09-07T16:06:18.317217Z",
     "start_time": "2020-09-07T16:06:18.301983Z"
    }
   },
   "outputs": [
    {
     "name": "stdout",
     "output_type": "stream",
     "text": [
      "start time: 09/07/20 21:36:18\n"
     ]
    }
   ],
   "source": [
    "start_time = time.time()\n",
    "print(f\"start time: {time.strftime('%x %X')}\")"
   ]
  },
  {
   "cell_type": "code",
   "execution_count": 3,
   "metadata": {
    "ExecuteTime": {
     "end_time": "2020-09-07T16:06:18.334562Z",
     "start_time": "2020-09-07T16:06:18.327191Z"
    }
   },
   "outputs": [],
   "source": [
    "size_chart_exists = '''id=\"size-chart-url\" data-header=\"Size Chart\" data-sizeChartActionType=\"a-modal\" class=\"a-size-small a-link-normal\"'''\n",
    "def size_chart(asin):\n",
    "    f = requests.get(\"https://www.amazon.com/dp/\" + asin)\n",
    "    if f.status_code == 200:\n",
    "        if int(str(f.content).find(size_chart_exists)) == -1 :\n",
    "            return \"Size chart widget does not exist\"\n",
    "        else:\n",
    "            return \"Size chart widget exist\"\n",
    "    else:\n",
    "        return \"Page Error\""
   ]
  },
  {
   "cell_type": "code",
   "execution_count": 4,
   "metadata": {
    "ExecuteTime": {
     "end_time": "2020-09-07T16:06:18.380959Z",
     "start_time": "2020-09-07T16:06:18.341160Z"
    }
   },
   "outputs": [
    {
     "data": {
      "text/plain": [
       "1816"
      ]
     },
     "execution_count": 4,
     "metadata": {},
     "output_type": "execute_result"
    }
   ],
   "source": [
    "asins = pd.read_csv(r\"C:\\Users\\akmarmu\\Documents\\python_projects\\fit_analysis\\asins.csv\").iloc[:,0].to_list()\n",
    "len(asins)"
   ]
  },
  {
   "cell_type": "code",
   "execution_count": 5,
   "metadata": {
    "ExecuteTime": {
     "end_time": "2020-09-07T16:06:18.397820Z",
     "start_time": "2020-09-07T16:06:18.386849Z"
    }
   },
   "outputs": [],
   "source": [
    "# # MT method\n",
    "# with concurrent.futures.ThreadPoolExecutor() as executor:\n",
    "#     results = executor.map(size_chart, asins)\n",
    "# result_df = pd.DataFrame()\n",
    "# result_df['asin'] = asins\n",
    "# result_df['size chart widget status'] = list(results)\n",
    "# result_df.to_csv(\"asins_size_widget_status_mt.csv\", index=False)\n",
    "# end_time = time.time()\n",
    "# minutes = (end_time - start_time) // 60\n",
    "# seconds = (end_time - start_time) % 60\n",
    "# print(f\"end time: {time.strftime('%x %X')}\")\n",
    "# print(f\"Approx. time taken : {round(minutes)} minutes {round(seconds)} seconds\")"
   ]
  },
  {
   "cell_type": "code",
   "execution_count": 6,
   "metadata": {
    "ExecuteTime": {
     "end_time": "2020-09-07T17:34:09.468612Z",
     "start_time": "2020-09-07T16:06:18.401425Z"
    }
   },
   "outputs": [],
   "source": [
    "result = []\n",
    "for i in range(len(asins)):\n",
    "    result.append(size_chart(asins[i]))"
   ]
  },
  {
   "cell_type": "code",
   "execution_count": 9,
   "metadata": {
    "ExecuteTime": {
     "end_time": "2020-09-07T17:42:43.268799Z",
     "start_time": "2020-09-07T17:42:43.236885Z"
    }
   },
   "outputs": [
    {
     "name": "stdout",
     "output_type": "stream",
     "text": [
      "end time: 09/07/20 23:12:43\n",
      "Approx. time taken : 96 minutes 25 seconds\n"
     ]
    }
   ],
   "source": [
    "# Normal method\n",
    "result_df = pd.DataFrame()\n",
    "result_df['asin'] = asins\n",
    "result_df['size chart widget status'] = result\n",
    "result_df.to_csv(\"asins_size_widget_status.csv\", index=False)\n",
    "end_time = time.time()\n",
    "minutes = (end_time - start_time) // 60\n",
    "seconds = (end_time - start_time) % 60\n",
    "print(f\"end time: {time.strftime('%x %X')}\")\n",
    "print(f\"Approx. time taken : {round(minutes)} minutes {round(seconds)} seconds\")"
   ]
  },
  {
   "cell_type": "code",
   "execution_count": 10,
   "metadata": {
    "ExecuteTime": {
     "end_time": "2020-09-07T22:59:43.414631Z",
     "start_time": "2020-09-07T17:48:59.587409Z"
    }
   },
   "outputs": [
    {
     "name": "stdout",
     "output_type": "stream",
     "text": [
      "\n",
      "\n",
      "\n",
      "start time: 09/07/20 23:18:59\n",
      "\n",
      "Reading the file, may take few minutes...........\n",
      "\n",
      " Total unique ASINs to check:  951 \n",
      "\n",
      " \n"
     ]
    },
    {
     "name": "stderr",
     "output_type": "stream",
     "text": [
      "[WDM] - Current google-chrome version is 85.0.4183\n",
      "[WDM] - Get LATEST driver version for 85.0.4183\n"
     ]
    },
    {
     "name": "stdout",
     "output_type": "stream",
     "text": [
      " \n"
     ]
    },
    {
     "name": "stderr",
     "output_type": "stream",
     "text": [
      "[WDM] - There is no [win32] chromedriver for browser 85.0.4183 in cache\n",
      "[WDM] - Get LATEST driver version for 85.0.4183\n",
      "[WDM] - Trying to download new driver from http://chromedriver.storage.googleapis.com/85.0.4183.87/chromedriver_win32.zip\n",
      "[WDM] - Driver has been saved in cache [C:\\Users\\akmarmu\\.wdm\\drivers\\chromedriver\\win32\\85.0.4183.87]\n"
     ]
    },
    {
     "name": "stdout",
     "output_type": "stream",
     "text": [
      "end time: 09/08/20 04:29:43\n",
      "Approx. time taken to get all the values: 310 minutes 43 seconds\n"
     ]
    }
   ],
   "source": [
    "# Importing packages\n",
    "from selenium import webdriver\n",
    "from webdriver_manager.chrome import ChromeDriverManager\n",
    "import pandas as pd\n",
    "import re\n",
    "import time\n",
    "from selenium.common.exceptions import (\n",
    "    NoSuchElementException,\n",
    "    ElementClickInterceptedException,\n",
    ")\n",
    "\n",
    "\n",
    "print(\"\\n\\n\")\n",
    "\n",
    "\n",
    "def chrome():\n",
    "    \"\"\"\n",
    "    This function returns a chrome instance\n",
    "    \"\"\"\n",
    "    option = webdriver.ChromeOptions()\n",
    "    option.add_argument(\"--ignore-certificate-errors\")\n",
    "    option.add_argument(\"--ignore-ssl-errors\")\n",
    "    option.add_argument(\"--safebrowsing-disable-download-protection\")\n",
    "    return webdriver.Chrome(executable_path=ChromeDriverManager().install(), options=option)\n",
    "\n",
    "\n",
    "def fit(asin):\n",
    "\n",
    "    try:\n",
    "        driver.get(\"https://www.amazon.com/dp/\" + asin)\n",
    "        time.sleep(5)\n",
    "        driver.find_element_by_xpath(\"//*[@id = 'fitRecommendationsSection']\").click()\n",
    "        grabbed_element = driver.find_element_by_xpath(\n",
    "            \"//*[@id = 'fitRecommendationsSupportingStatement']/following::*[@id = 'fitRecommendationHistogramTable']\"\n",
    "        ).text\n",
    "        rt = re.findall(r\"\\n([,0-9]+)\", grabbed_element)\n",
    "        return rt\n",
    "\n",
    "    except NoSuchElementException:\n",
    "        try:\n",
    "            driver.get(\"https://www.amazon.com/dp/\" + asin)\n",
    "            time.sleep(5)\n",
    "            driver.find_element_by_xpath(\"//*[@id = 'pers_fit_link']\").click()\n",
    "            driver.find_element_by_xpath(\"//*[contains(text(),'Fit reviews')]\").click()\n",
    "            rt = re.findall(\n",
    "                r\"\\n([,0-9]+)\",\n",
    "                driver.find_element_by_xpath(\n",
    "                    \"//*[@id = 'fitRecommendationHistogramTable']\"\n",
    "                ).text,\n",
    "            )\n",
    "            return rt\n",
    "        except NoSuchElementException:\n",
    "            try:\n",
    "                driver.get(\"https://www.amazon.com/dp/\" + asin)\n",
    "                time.sleep(5)\n",
    "                driver.find_element_by_xpath(\"//*[@id = 'HIF_link']\").click()\n",
    "                driver.find_element_by_xpath(\n",
    "                    \"//*[contains(text(),'Fit reviews')]\"\n",
    "                ).click()\n",
    "                rt = re.findall(\n",
    "                    r\"\\n([,0-9]+)\",\n",
    "                    driver.find_element_by_xpath(\n",
    "                        \"//*[@id = 'fitRecommendationHistogramTable']\"\n",
    "                    ).text,\n",
    "                )\n",
    "                return rt\n",
    "            except NoSuchElementException:\n",
    "                return [\"Error\", \"Error\", \"Error\", \"Error\", \"Error\"]\n",
    "            except ElementClickInterceptedException:\n",
    "                return [\"click\", \"click\", \"click\", \"click\", \"click\"]\n",
    "            except:\n",
    "                return [\"others\", \"others\", \"others\", \"others\", \"others\"]\n",
    "        except ElementClickInterceptedException:\n",
    "            return [\"click\", \"click\", \"click\", \"click\", \"click\"]\n",
    "        except:\n",
    "            return [\"others\", \"others\", \"others\", \"others\", \"others\"]\n",
    "\n",
    "    except ElementClickInterceptedException:\n",
    "        return [\"click\", \"click\", \"click\", \"click\", \"click\"]\n",
    "    except:\n",
    "        return [\"others\", \"others\", \"others\", \"others\", \"others\"]\n",
    "\n",
    "\n",
    "start_time = time.time()\n",
    "print(f\"start time: {time.strftime('%x %X')}\")\n",
    "print(\"\")\n",
    "\n",
    "print(\"Reading the file, may take few minutes...........\")\n",
    "ds = pd.read_csv(r\"C:\\Users\\akmarmu\\Documents\\python_projects\\fit_analysis\\asins.csv\")\n",
    "ds = ds.iloc[:, 0]\n",
    "ds = ds.drop_duplicates()\n",
    "print(\"\\n\", \"Total unique ASINs to check: \", len(ds), \"\\n\", end=\"\\n \\n\")\n",
    "driver = chrome()\n",
    "\n",
    "hi = ds.apply(fit)\n",
    "\n",
    "driver.quit()\n",
    "ds = pd.concat([ds, hi], axis=1)\n",
    "ds.to_csv(\"result.csv\", index=True)\n",
    "\n",
    "end_time = time.time()\n",
    "minutes = (end_time - start_time) // 60\n",
    "seconds = (end_time - start_time) % 60\n",
    "print(f\"end time: {time.strftime('%x %X')}\")\n",
    "print(\n",
    "    f\"Approx. time taken to get all the values: {round(minutes)} minutes {round(seconds)} seconds\"\n",
    ")\n"
   ]
  }
 ],
 "metadata": {
  "hide_input": false,
  "kernelspec": {
   "display_name": "Python 3",
   "language": "python",
   "name": "python3"
  },
  "language_info": {
   "codemirror_mode": {
    "name": "ipython",
    "version": 3
   },
   "file_extension": ".py",
   "mimetype": "text/x-python",
   "name": "python",
   "nbconvert_exporter": "python",
   "pygments_lexer": "ipython3",
   "version": "3.7.9"
  },
  "toc": {
   "base_numbering": 1,
   "nav_menu": {},
   "number_sections": true,
   "sideBar": true,
   "skip_h1_title": false,
   "title_cell": "Table of Contents",
   "title_sidebar": "Contents",
   "toc_cell": false,
   "toc_position": {},
   "toc_section_display": true,
   "toc_window_display": false
  },
  "varInspector": {
   "cols": {
    "lenName": 16,
    "lenType": 16,
    "lenVar": 40
   },
   "kernels_config": {
    "python": {
     "delete_cmd_postfix": "",
     "delete_cmd_prefix": "del ",
     "library": "var_list.py",
     "varRefreshCmd": "print(var_dic_list())"
    },
    "r": {
     "delete_cmd_postfix": ") ",
     "delete_cmd_prefix": "rm(",
     "library": "var_list.r",
     "varRefreshCmd": "cat(var_dic_list()) "
    }
   },
   "position": {
    "height": "356.4px",
    "left": "1013.2px",
    "right": "20px",
    "top": "105px",
    "width": "350px"
   },
   "types_to_exclude": [
    "module",
    "function",
    "builtin_function_or_method",
    "instance",
    "_Feature"
   ],
   "window_display": false
  }
 },
 "nbformat": 4,
 "nbformat_minor": 4
}
